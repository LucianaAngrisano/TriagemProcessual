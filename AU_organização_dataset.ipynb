{
  "nbformat": 4,
  "nbformat_minor": 5,
  "metadata": {
    "kernelspec": {
      "display_name": "Python 3 (ipykernel)",
      "language": "python",
      "name": "python3"
    },
    "language_info": {
      "codemirror_mode": {
        "name": "ipython",
        "version": 3
      },
      "file_extension": ".py",
      "mimetype": "text/x-python",
      "name": "python",
      "nbconvert_exporter": "python",
      "pygments_lexer": "ipython3",
      "version": "3.9.5"
    },
    "colab": {
      "name": "AU organização dataset.ipynb",
      "provenance": [],
      "collapsed_sections": [],
      "include_colab_link": true
    }
  },
  "cells": [
    {
      "cell_type": "markdown",
      "metadata": {
        "id": "view-in-github",
        "colab_type": "text"
      },
      "source": [
        "<a href=\"https://colab.research.google.com/github/LucianaAngrisano/TriagemProcessual/blob/main/AU_organiza%C3%A7%C3%A3o_dataset.ipynb\" target=\"_parent\"><img src=\"https://colab.research.google.com/assets/colab-badge.svg\" alt=\"Open In Colab\"/></a>"
      ]
    },
    {
      "cell_type": "markdown",
      "metadata": {
        "id": "c1d2f65f-728d-4c18-b2a2-fe0904e0e1f1"
      },
      "source": [
        "# LEITURA DOS ARQUIVOS E ORGANIZAÇÃO DO DATASET\n"
      ],
      "id": "c1d2f65f-728d-4c18-b2a2-fe0904e0e1f1"
    },
    {
      "cell_type": "code",
      "metadata": {
        "id": "7d6849ed-b526-4328-8097-1d84c073e76f"
      },
      "source": [
        "# Importação da biblioteca pandas\n",
        "import pandas as pd"
      ],
      "id": "7d6849ed-b526-4328-8097-1d84c073e76f",
      "execution_count": null,
      "outputs": []
    },
    {
      "cell_type": "markdown",
      "metadata": {
        "tags": [],
        "id": "51a7b264-6ffe-4356-abcf-82daeeb1f2ed"
      },
      "source": [
        "### ABERTURA DO ARQUIVO CONTENDO O TEOR DAS PETIÇÕES"
      ],
      "id": "51a7b264-6ffe-4356-abcf-82daeeb1f2ed"
    },
    {
      "cell_type": "code",
      "metadata": {
        "id": "ggdg05MI0ARX",
        "colab": {
          "base_uri": "https://localhost:8080/"
        },
        "outputId": "6af3c890-ee23-4ded-99fe-7c8e80db799f"
      },
      "source": [
        "# Montar o Google Drive para acessar pelo Colab\n",
        "from google.colab import drive\n",
        "drive.mount('/content/drive')"
      ],
      "id": "ggdg05MI0ARX",
      "execution_count": null,
      "outputs": [
        {
          "output_type": "stream",
          "name": "stdout",
          "text": [
            "Mounted at /content/drive\n"
          ]
        }
      ]
    },
    {
      "cell_type": "code",
      "metadata": {
        "id": "O-Gi5Evx1gvU"
      },
      "source": [
        "# Salva em uma variável o caminho para a pasta do projeto\n",
        "from pathlib import Path\n",
        "pasta_projeto = Path('drive/MyDrive/Colab Notebooks/Projeto')"
      ],
      "id": "O-Gi5Evx1gvU",
      "execution_count": null,
      "outputs": []
    },
    {
      "cell_type": "code",
      "metadata": {
        "id": "2fd1732e-bf71-42f7-8ef7-0679579ad0e8"
      },
      "source": [
        "# Cria um dataframe a partir do arquivo com o teor das petições\n",
        "df_peticoes = pd.read_parquet(pasta_projeto / 'AU peticoes.parquet')"
      ],
      "id": "2fd1732e-bf71-42f7-8ef7-0679579ad0e8",
      "execution_count": null,
      "outputs": []
    },
    {
      "cell_type": "code",
      "metadata": {
        "tags": [],
        "colab": {
          "base_uri": "https://localhost:8080/",
          "height": 220
        },
        "id": "615f8c6e-9c12-4f66-b420-304d24d91223",
        "outputId": "f4672968-77a9-4245-ac8c-d8e6a13331e0"
      },
      "source": [
        "# Verifica o formato e as primeiras linhas do dataframe com o teor das petições\n",
        "print(df_peticoes.shape)\n",
        "df_peticoes.head()"
      ],
      "id": "615f8c6e-9c12-4f66-b420-304d24d91223",
      "execution_count": null,
      "outputs": [
        {
          "output_type": "stream",
          "name": "stdout",
          "text": [
            "(14996, 2)\n"
          ]
        },
        {
          "output_type": "execute_result",
          "data": {
            "text/html": [
              "<div>\n",
              "<style scoped>\n",
              "    .dataframe tbody tr th:only-of-type {\n",
              "        vertical-align: middle;\n",
              "    }\n",
              "\n",
              "    .dataframe tbody tr th {\n",
              "        vertical-align: top;\n",
              "    }\n",
              "\n",
              "    .dataframe thead th {\n",
              "        text-align: right;\n",
              "    }\n",
              "</style>\n",
              "<table border=\"1\" class=\"dataframe\">\n",
              "  <thead>\n",
              "    <tr style=\"text-align: right;\">\n",
              "      <th></th>\n",
              "      <th>processo</th>\n",
              "      <th>peticao</th>\n",
              "    </tr>\n",
              "  </thead>\n",
              "  <tbody>\n",
              "    <tr>\n",
              "      <th>0</th>\n",
              "      <td>0003469-67.2017.4.01.3824</td>\n",
              "      <td>Petição segue anexa.\\n \\nNum. 751512049 - Pág....</td>\n",
              "    </tr>\n",
              "    <tr>\n",
              "      <th>1</th>\n",
              "      <td>0009254-20.2010.4.01.3803</td>\n",
              "      <td>9254-20.2010.4.01.3803 \\nEXMO (A) SR (A) JUIZ ...</td>\n",
              "    </tr>\n",
              "    <tr>\n",
              "      <th>2</th>\n",
              "      <td>0016750-94.2019.4.01.3800</td>\n",
              "      <td>Dados sobre a doença e medicamento(s)/exame(s)...</td>\n",
              "    </tr>\n",
              "    <tr>\n",
              "      <th>3</th>\n",
              "      <td>1000001-11.2021.4.01.3801</td>\n",
              "      <td>inicial\\n \\nNum. 409309388 - Pág. 1Assinado el...</td>\n",
              "    </tr>\n",
              "    <tr>\n",
              "      <th>4</th>\n",
              "      <td>1000001-42.2021.4.01.3823</td>\n",
              "      <td>INICIAL\\n \\nNum. 409362388 - Pág. 1Assinado el...</td>\n",
              "    </tr>\n",
              "  </tbody>\n",
              "</table>\n",
              "</div>"
            ],
            "text/plain": [
              "                    processo                                            peticao\n",
              "0  0003469-67.2017.4.01.3824  Petição segue anexa.\\n \\nNum. 751512049 - Pág....\n",
              "1  0009254-20.2010.4.01.3803  9254-20.2010.4.01.3803 \\nEXMO (A) SR (A) JUIZ ...\n",
              "2  0016750-94.2019.4.01.3800  Dados sobre a doença e medicamento(s)/exame(s)...\n",
              "3  1000001-11.2021.4.01.3801  inicial\\n \\nNum. 409309388 - Pág. 1Assinado el...\n",
              "4  1000001-42.2021.4.01.3823  INICIAL\\n \\nNum. 409362388 - Pág. 1Assinado el..."
            ]
          },
          "metadata": {},
          "execution_count": 5
        }
      ]
    },
    {
      "cell_type": "code",
      "metadata": {
        "tags": [],
        "colab": {
          "base_uri": "https://localhost:8080/",
          "height": 203
        },
        "id": "2756e14c-efc1-4286-977e-745d9d727bfa",
        "outputId": "46f99c09-6a17-4774-b45c-70c998c3c301"
      },
      "source": [
        "# Retira a pontuação dos números dos processos e exibe o resultado nas primeiras linhas\n",
        "df_peticoes['processo'] = df_peticoes['processo'].str.replace('[-.]', '', regex=True)\n",
        "df_peticoes.head()"
      ],
      "id": "2756e14c-efc1-4286-977e-745d9d727bfa",
      "execution_count": null,
      "outputs": [
        {
          "output_type": "execute_result",
          "data": {
            "text/html": [
              "<div>\n",
              "<style scoped>\n",
              "    .dataframe tbody tr th:only-of-type {\n",
              "        vertical-align: middle;\n",
              "    }\n",
              "\n",
              "    .dataframe tbody tr th {\n",
              "        vertical-align: top;\n",
              "    }\n",
              "\n",
              "    .dataframe thead th {\n",
              "        text-align: right;\n",
              "    }\n",
              "</style>\n",
              "<table border=\"1\" class=\"dataframe\">\n",
              "  <thead>\n",
              "    <tr style=\"text-align: right;\">\n",
              "      <th></th>\n",
              "      <th>processo</th>\n",
              "      <th>peticao</th>\n",
              "    </tr>\n",
              "  </thead>\n",
              "  <tbody>\n",
              "    <tr>\n",
              "      <th>0</th>\n",
              "      <td>00034696720174013824</td>\n",
              "      <td>Petição segue anexa.\\n \\nNum. 751512049 - Pág....</td>\n",
              "    </tr>\n",
              "    <tr>\n",
              "      <th>1</th>\n",
              "      <td>00092542020104013803</td>\n",
              "      <td>9254-20.2010.4.01.3803 \\nEXMO (A) SR (A) JUIZ ...</td>\n",
              "    </tr>\n",
              "    <tr>\n",
              "      <th>2</th>\n",
              "      <td>00167509420194013800</td>\n",
              "      <td>Dados sobre a doença e medicamento(s)/exame(s)...</td>\n",
              "    </tr>\n",
              "    <tr>\n",
              "      <th>3</th>\n",
              "      <td>10000011120214013801</td>\n",
              "      <td>inicial\\n \\nNum. 409309388 - Pág. 1Assinado el...</td>\n",
              "    </tr>\n",
              "    <tr>\n",
              "      <th>4</th>\n",
              "      <td>10000014220214013823</td>\n",
              "      <td>INICIAL\\n \\nNum. 409362388 - Pág. 1Assinado el...</td>\n",
              "    </tr>\n",
              "  </tbody>\n",
              "</table>\n",
              "</div>"
            ],
            "text/plain": [
              "               processo                                            peticao\n",
              "0  00034696720174013824  Petição segue anexa.\\n \\nNum. 751512049 - Pág....\n",
              "1  00092542020104013803  9254-20.2010.4.01.3803 \\nEXMO (A) SR (A) JUIZ ...\n",
              "2  00167509420194013800  Dados sobre a doença e medicamento(s)/exame(s)...\n",
              "3  10000011120214013801  inicial\\n \\nNum. 409309388 - Pág. 1Assinado el...\n",
              "4  10000014220214013823  INICIAL\\n \\nNum. 409362388 - Pág. 1Assinado el..."
            ]
          },
          "metadata": {},
          "execution_count": 6
        }
      ]
    },
    {
      "cell_type": "code",
      "metadata": {
        "tags": [],
        "colab": {
          "base_uri": "https://localhost:8080/"
        },
        "id": "16a41ebb-1079-4b67-afb9-e23d94b1606a",
        "outputId": "452dd7ba-76f3-41ab-ed3d-7b6661d05079"
      },
      "source": [
        "# Verifica a existência de números repetidos\n",
        "sum(df_peticoes['processo'].value_counts() > 1)"
      ],
      "id": "16a41ebb-1079-4b67-afb9-e23d94b1606a",
      "execution_count": null,
      "outputs": [
        {
          "output_type": "execute_result",
          "data": {
            "text/plain": [
              "0"
            ]
          },
          "metadata": {},
          "execution_count": 7
        }
      ]
    },
    {
      "cell_type": "markdown",
      "metadata": {
        "tags": [],
        "id": "ff7bdbb4-4559-42da-88d9-c844fcbfaeb8"
      },
      "source": [
        "### ABERTURA DO ARQUIVO CONTENDO OS DADOS DOS PROCESSOS"
      ],
      "id": "ff7bdbb4-4559-42da-88d9-c844fcbfaeb8"
    },
    {
      "cell_type": "code",
      "metadata": {
        "id": "59171a69-296e-4114-ba35-88f1c39de8aa"
      },
      "source": [
        "# Cria dataframe a partir do arquivo com os dados dos processos\n",
        "df_dados_processos = pd.read_csv(pasta_projeto / 'AU dados.csv')"
      ],
      "id": "59171a69-296e-4114-ba35-88f1c39de8aa",
      "execution_count": null,
      "outputs": []
    },
    {
      "cell_type": "code",
      "metadata": {
        "id": "8437eb72-b58d-4194-a1d8-bbd293a5c039",
        "colab": {
          "base_uri": "https://localhost:8080/",
          "height": 509
        },
        "outputId": "cc039c11-101b-49ac-c486-0e69d819395b"
      },
      "source": [
        "# Verifica o formato e as primeiras linhas do dataframe com os dados dos processos\n",
        "print(df_dados_processos.shape)\n",
        "df_dados_processos.head()"
      ],
      "id": "8437eb72-b58d-4194-a1d8-bbd293a5c039",
      "execution_count": null,
      "outputs": [
        {
          "output_type": "stream",
          "name": "stdout",
          "text": [
            "(17019, 11)\n"
          ]
        },
        {
          "output_type": "execute_result",
          "data": {
            "text/html": [
              "<div>\n",
              "<style scoped>\n",
              "    .dataframe tbody tr th:only-of-type {\n",
              "        vertical-align: middle;\n",
              "    }\n",
              "\n",
              "    .dataframe tbody tr th {\n",
              "        vertical-align: top;\n",
              "    }\n",
              "\n",
              "    .dataframe thead th {\n",
              "        text-align: right;\n",
              "    }\n",
              "</style>\n",
              "<table border=\"1\" class=\"dataframe\">\n",
              "  <thead>\n",
              "    <tr style=\"text-align: right;\">\n",
              "      <th></th>\n",
              "      <th>Numero</th>\n",
              "      <th>Tipo_Assunto_Nome</th>\n",
              "      <th>Setor_Nome</th>\n",
              "      <th>Setor_Sigla</th>\n",
              "      <th>Unidade_UF</th>\n",
              "      <th>Unidade_Municipio</th>\n",
              "      <th>Pasta_Meio</th>\n",
              "      <th>Classe_Processo_Nome</th>\n",
              "      <th>Tribunal_Competencia</th>\n",
              "      <th>Tribunal_Sigla</th>\n",
              "      <th>Processo_Judicial_Eletronico</th>\n",
              "    </tr>\n",
              "  </thead>\n",
              "  <tbody>\n",
              "    <tr>\n",
              "      <th>0</th>\n",
              "      <td>10126865320214013800</td>\n",
              "      <td>MULTAS E DEMAIS SANÇÕES</td>\n",
              "      <td>COORDENAÇÃO REGIONAL DE RECUPERAÇÃO DE ATIVOS ...</td>\n",
              "      <td>CORAT1R</td>\n",
              "      <td>DF</td>\n",
              "      <td>BRASÍLIA</td>\n",
              "      <td>ELETRÔNICO</td>\n",
              "      <td>NaN</td>\n",
              "      <td>Justiça Federal Comum</td>\n",
              "      <td>TRF1</td>\n",
              "      <td>True</td>\n",
              "    </tr>\n",
              "    <tr>\n",
              "      <th>1</th>\n",
              "      <td>10005025620214013803</td>\n",
              "      <td>AVERBAÇÃO / CONTAGEM DE TEMPO ESPECIAL</td>\n",
              "      <td>COORDENAÇÃO REGIONAL DE SERVIDORES CIVIS (PRU1...</td>\n",
              "      <td>CORESE1R</td>\n",
              "      <td>DF</td>\n",
              "      <td>BRASÍLIA</td>\n",
              "      <td>ELETRÔNICO</td>\n",
              "      <td>AÇÃO CIVIL COLETIVA</td>\n",
              "      <td>Justiça Federal Comum</td>\n",
              "      <td>TRF1</td>\n",
              "      <td>True</td>\n",
              "    </tr>\n",
              "    <tr>\n",
              "      <th>2</th>\n",
              "      <td>10093425520214013803</td>\n",
              "      <td>APOSENTADORIA</td>\n",
              "      <td>COORDENAÇÃO REGIONAL DE SERVIDORES CIVIS (PRU1...</td>\n",
              "      <td>CORESE1R</td>\n",
              "      <td>DF</td>\n",
              "      <td>BRASÍLIA</td>\n",
              "      <td>ELETRÔNICO</td>\n",
              "      <td>AÇÃO CIVIL COLETIVA</td>\n",
              "      <td>Justiça Federal Comum</td>\n",
              "      <td>TRF1</td>\n",
              "      <td>True</td>\n",
              "    </tr>\n",
              "    <tr>\n",
              "      <th>3</th>\n",
              "      <td>10486605420214013800</td>\n",
              "      <td>CONTROLE DE PREÇOS</td>\n",
              "      <td>COORDENAÇÃO REGIONAL DE SERVIÇO PÚBLICO  (PRU1...</td>\n",
              "      <td>CORESP1R</td>\n",
              "      <td>DF</td>\n",
              "      <td>BRASÍLIA</td>\n",
              "      <td>ELETRÔNICO</td>\n",
              "      <td>AÇÃO CIVIL COLETIVA</td>\n",
              "      <td>Justiça Federal Comum</td>\n",
              "      <td>TRF1</td>\n",
              "      <td>True</td>\n",
              "    </tr>\n",
              "    <tr>\n",
              "      <th>4</th>\n",
              "      <td>10003019820214013824</td>\n",
              "      <td>VIOLAÇÃO AOS PRINCÍPIOS ADMINISTRATIVOS</td>\n",
              "      <td>COORDENAÇÃO REGIONAL DE DEFESA DA PROBIDADE (P...</td>\n",
              "      <td>COREPRO1R</td>\n",
              "      <td>DF</td>\n",
              "      <td>BRASÍLIA</td>\n",
              "      <td>ELETRÔNICO</td>\n",
              "      <td>AÇÃO CIVIL DE IMPROBIDADE ADMINISTRATIVA</td>\n",
              "      <td>Justiça Federal Comum</td>\n",
              "      <td>TRF1</td>\n",
              "      <td>True</td>\n",
              "    </tr>\n",
              "  </tbody>\n",
              "</table>\n",
              "</div>"
            ],
            "text/plain": [
              "                 Numero  ... Processo_Judicial_Eletronico\n",
              "0  10126865320214013800  ...                         True\n",
              "1  10005025620214013803  ...                         True\n",
              "2  10093425520214013803  ...                         True\n",
              "3  10486605420214013800  ...                         True\n",
              "4  10003019820214013824  ...                         True\n",
              "\n",
              "[5 rows x 11 columns]"
            ]
          },
          "metadata": {},
          "execution_count": 9
        }
      ]
    },
    {
      "cell_type": "code",
      "metadata": {
        "colab": {
          "base_uri": "https://localhost:8080/"
        },
        "id": "99825991-ddab-460b-b2c5-db4da1e1e190",
        "outputId": "8f57c66d-bf9d-4bc4-f9b1-3770e10aed5c"
      },
      "source": [
        "# Verifica a existência de números de processos duplicados\n",
        "sum(df_dados_processos['Numero'].value_counts() > 1)"
      ],
      "id": "99825991-ddab-460b-b2c5-db4da1e1e190",
      "execution_count": null,
      "outputs": [
        {
          "output_type": "execute_result",
          "data": {
            "text/plain": [
              "142"
            ]
          },
          "metadata": {},
          "execution_count": 10
        }
      ]
    },
    {
      "cell_type": "code",
      "metadata": {
        "id": "669ec2ee-e33f-4465-880a-c64123deec0d",
        "colab": {
          "base_uri": "https://localhost:8080/",
          "height": 1000
        },
        "outputId": "cb763fba-9098-4a8d-c174-d573a8976c2a"
      },
      "source": [
        "# Cria um filtro para listagem dos processos duplicados\n",
        "filtro = df_dados_processos['Numero'].value_counts() > 1\n",
        "# Lista as linhas com números de processos duplicados\n",
        "df_dados_processos[df_dados_processos['Numero'].isin(filtro[filtro].index.unique())].sort_values('Numero')\n",
        "# Percebe-se que a duplicidade decorre de novo cadastro destes processos na fase recursal"
      ],
      "id": "669ec2ee-e33f-4465-880a-c64123deec0d",
      "execution_count": null,
      "outputs": [
        {
          "output_type": "execute_result",
          "data": {
            "text/html": [
              "<div>\n",
              "<style scoped>\n",
              "    .dataframe tbody tr th:only-of-type {\n",
              "        vertical-align: middle;\n",
              "    }\n",
              "\n",
              "    .dataframe tbody tr th {\n",
              "        vertical-align: top;\n",
              "    }\n",
              "\n",
              "    .dataframe thead th {\n",
              "        text-align: right;\n",
              "    }\n",
              "</style>\n",
              "<table border=\"1\" class=\"dataframe\">\n",
              "  <thead>\n",
              "    <tr style=\"text-align: right;\">\n",
              "      <th></th>\n",
              "      <th>Numero</th>\n",
              "      <th>Tipo_Assunto_Nome</th>\n",
              "      <th>Setor_Nome</th>\n",
              "      <th>Setor_Sigla</th>\n",
              "      <th>Unidade_UF</th>\n",
              "      <th>Unidade_Municipio</th>\n",
              "      <th>Pasta_Meio</th>\n",
              "      <th>Classe_Processo_Nome</th>\n",
              "      <th>Tribunal_Competencia</th>\n",
              "      <th>Tribunal_Sigla</th>\n",
              "      <th>Processo_Judicial_Eletronico</th>\n",
              "    </tr>\n",
              "  </thead>\n",
              "  <tbody>\n",
              "    <tr>\n",
              "      <th>16183</th>\n",
              "      <td>10000037820214013801</td>\n",
              "      <td>AUXILIO EMERGENCIAL</td>\n",
              "      <td>COORDENAÇÃO REGIONAL DE JUIZADO ESPECIAL FEDER...</td>\n",
              "      <td>COREJEF1R</td>\n",
              "      <td>DF</td>\n",
              "      <td>BRASÍLIA</td>\n",
              "      <td>ELETRÔNICO</td>\n",
              "      <td>RECURSO INOMINADO</td>\n",
              "      <td>Justiça Federal Comum</td>\n",
              "      <td>TRF1</td>\n",
              "      <td>True</td>\n",
              "    </tr>\n",
              "    <tr>\n",
              "      <th>2167</th>\n",
              "      <td>10000037820214013801</td>\n",
              "      <td>AUXILIO EMERGENCIAL</td>\n",
              "      <td>COORDENAÇÃO REGIONAL DE JUIZADO ESPECIAL FEDER...</td>\n",
              "      <td>COREJEF1R</td>\n",
              "      <td>DF</td>\n",
              "      <td>BRASÍLIA</td>\n",
              "      <td>ELETRÔNICO</td>\n",
              "      <td>PROCEDIMENTO DO JUIZADO ESPECIAL CÍVEL</td>\n",
              "      <td>Justiça Federal Comum</td>\n",
              "      <td>TRF1</td>\n",
              "      <td>True</td>\n",
              "    </tr>\n",
              "    <tr>\n",
              "      <th>2184</th>\n",
              "      <td>10000080320214013801</td>\n",
              "      <td>SEGURO-DESEMPREGO</td>\n",
              "      <td>COORDENAÇÃO REGIONAL DE JUIZADO ESPECIAL FEDER...</td>\n",
              "      <td>COREJEF1R</td>\n",
              "      <td>DF</td>\n",
              "      <td>BRASÍLIA</td>\n",
              "      <td>ELETRÔNICO</td>\n",
              "      <td>PROCEDIMENTO DO JUIZADO ESPECIAL CÍVEL</td>\n",
              "      <td>Justiça Federal Comum</td>\n",
              "      <td>TRF1</td>\n",
              "      <td>True</td>\n",
              "    </tr>\n",
              "    <tr>\n",
              "      <th>16184</th>\n",
              "      <td>10000080320214013801</td>\n",
              "      <td>SEGURO-DESEMPREGO</td>\n",
              "      <td>COORDENAÇÃO REGIONAL DE JUIZADO ESPECIAL FEDER...</td>\n",
              "      <td>COREJEF1R</td>\n",
              "      <td>DF</td>\n",
              "      <td>BRASÍLIA</td>\n",
              "      <td>ELETRÔNICO</td>\n",
              "      <td>RECURSO INOMINADO</td>\n",
              "      <td>Justiça Federal Comum</td>\n",
              "      <td>TRF1</td>\n",
              "      <td>True</td>\n",
              "    </tr>\n",
              "    <tr>\n",
              "      <th>16187</th>\n",
              "      <td>10000378120214013824</td>\n",
              "      <td>AUXILIO EMERGENCIAL</td>\n",
              "      <td>COORDENAÇÃO REGIONAL DE JUIZADO ESPECIAL FEDER...</td>\n",
              "      <td>COREJEF1R</td>\n",
              "      <td>DF</td>\n",
              "      <td>BRASÍLIA</td>\n",
              "      <td>ELETRÔNICO</td>\n",
              "      <td>RECURSO INOMINADO</td>\n",
              "      <td>Justiça Federal Comum</td>\n",
              "      <td>TRF1</td>\n",
              "      <td>True</td>\n",
              "    </tr>\n",
              "    <tr>\n",
              "      <th>...</th>\n",
              "      <td>...</td>\n",
              "      <td>...</td>\n",
              "      <td>...</td>\n",
              "      <td>...</td>\n",
              "      <td>...</td>\n",
              "      <td>...</td>\n",
              "      <td>...</td>\n",
              "      <td>...</td>\n",
              "      <td>...</td>\n",
              "      <td>...</td>\n",
              "      <td>...</td>\n",
              "    </tr>\n",
              "    <tr>\n",
              "      <th>16949</th>\n",
              "      <td>10500292020204013800</td>\n",
              "      <td>ATUALIZAÇÃO DE CONTA</td>\n",
              "      <td>COORDENAÇÃO REGIONAL DE JUIZADO ESPECIAL FEDER...</td>\n",
              "      <td>COREJEF1R</td>\n",
              "      <td>DF</td>\n",
              "      <td>BRASÍLIA</td>\n",
              "      <td>ELETRÔNICO</td>\n",
              "      <td>RECURSO INOMINADO</td>\n",
              "      <td>Justiça Federal Comum</td>\n",
              "      <td>TRF1</td>\n",
              "      <td>True</td>\n",
              "    </tr>\n",
              "    <tr>\n",
              "      <th>16952</th>\n",
              "      <td>10516981120204013800</td>\n",
              "      <td>PADRONIZADO</td>\n",
              "      <td>COORDENAÇÃO REGIONAL DE SAÚDE PÚBLICA (PRU1R/C...</td>\n",
              "      <td>CORESA1R</td>\n",
              "      <td>DF</td>\n",
              "      <td>BRASÍLIA</td>\n",
              "      <td>ELETRÔNICO</td>\n",
              "      <td>RECURSO INOMINADO</td>\n",
              "      <td>Justiça Federal Comum</td>\n",
              "      <td>TRF1</td>\n",
              "      <td>True</td>\n",
              "    </tr>\n",
              "    <tr>\n",
              "      <th>13716</th>\n",
              "      <td>10516981120204013800</td>\n",
              "      <td>PADRONIZADO</td>\n",
              "      <td>COORDENAÇÃO REGIONAL DE SAÚDE PÚBLICA (PRU1R/C...</td>\n",
              "      <td>CORESA1R</td>\n",
              "      <td>DF</td>\n",
              "      <td>BRASÍLIA</td>\n",
              "      <td>ELETRÔNICO</td>\n",
              "      <td>PROCEDIMENTO DO JUIZADO ESPECIAL CÍVEL</td>\n",
              "      <td>Justiça Federal Comum</td>\n",
              "      <td>TRF1</td>\n",
              "      <td>True</td>\n",
              "    </tr>\n",
              "    <tr>\n",
              "      <th>14089</th>\n",
              "      <td>10549147720204013800</td>\n",
              "      <td>AUXILIO EMERGENCIAL</td>\n",
              "      <td>COORDENAÇÃO REGIONAL DE JUIZADO ESPECIAL FEDER...</td>\n",
              "      <td>COREJEF1R</td>\n",
              "      <td>DF</td>\n",
              "      <td>BRASÍLIA</td>\n",
              "      <td>ELETRÔNICO</td>\n",
              "      <td>PROCEDIMENTO DO JUIZADO ESPECIAL CÍVEL</td>\n",
              "      <td>Justiça Federal Comum</td>\n",
              "      <td>TRF1</td>\n",
              "      <td>True</td>\n",
              "    </tr>\n",
              "    <tr>\n",
              "      <th>16955</th>\n",
              "      <td>10549147720204013800</td>\n",
              "      <td>AUXILIO EMERGENCIAL</td>\n",
              "      <td>NUCLEO ESPECIALIZADO EM AUXÍLIO EMERGENCIAL (P...</td>\n",
              "      <td>COREJEFAE</td>\n",
              "      <td>DF</td>\n",
              "      <td>BRASÍLIA</td>\n",
              "      <td>ELETRÔNICO</td>\n",
              "      <td>RECURSO INOMINADO</td>\n",
              "      <td>Justiça Federal Comum</td>\n",
              "      <td>TRF1</td>\n",
              "      <td>True</td>\n",
              "    </tr>\n",
              "  </tbody>\n",
              "</table>\n",
              "<p>284 rows × 11 columns</p>\n",
              "</div>"
            ],
            "text/plain": [
              "                     Numero  ... Processo_Judicial_Eletronico\n",
              "16183  10000037820214013801  ...                         True\n",
              "2167   10000037820214013801  ...                         True\n",
              "2184   10000080320214013801  ...                         True\n",
              "16184  10000080320214013801  ...                         True\n",
              "16187  10000378120214013824  ...                         True\n",
              "...                     ...  ...                          ...\n",
              "16949  10500292020204013800  ...                         True\n",
              "16952  10516981120204013800  ...                         True\n",
              "13716  10516981120204013800  ...                         True\n",
              "14089  10549147720204013800  ...                         True\n",
              "16955  10549147720204013800  ...                         True\n",
              "\n",
              "[284 rows x 11 columns]"
            ]
          },
          "metadata": {},
          "execution_count": 11
        }
      ]
    },
    {
      "cell_type": "code",
      "metadata": {
        "id": "11598224-c7f2-4869-9969-20fec4fedadf"
      },
      "source": [
        "# Reune os dados dos dois dataframes em um só, a partir da coluna com o número do processo\n",
        "df_completo = pd.merge(df_peticoes, df_dados_processos, how='inner', left_on='processo', right_on='Numero')"
      ],
      "id": "11598224-c7f2-4869-9969-20fec4fedadf",
      "execution_count": null,
      "outputs": []
    },
    {
      "cell_type": "code",
      "metadata": {
        "colab": {
          "base_uri": "https://localhost:8080/"
        },
        "id": "15c1a74e-d3f4-4005-ae44-26d4e06a36ae",
        "outputId": "a01cbc8e-d48e-4236-8fa3-ebe9f4479226"
      },
      "source": [
        "# Verifica a quantidade de números de processos duplicados\n",
        "sum(df_completo['Numero'].value_counts() > 1)"
      ],
      "id": "15c1a74e-d3f4-4005-ae44-26d4e06a36ae",
      "execution_count": null,
      "outputs": [
        {
          "output_type": "execute_result",
          "data": {
            "text/plain": [
              "134"
            ]
          },
          "metadata": {},
          "execution_count": 13
        }
      ]
    },
    {
      "cell_type": "code",
      "metadata": {
        "colab": {
          "base_uri": "https://localhost:8080/"
        },
        "id": "8f39af07-05cb-4557-a26b-960b16f1bc91",
        "outputId": "786df4a9-bab5-42d3-b232-878a98192f1c"
      },
      "source": [
        "# Confere o formato do dataframe sem os processos ducplicados\n",
        "df_completo.shape[0] - sum(df_completo['Numero'].value_counts() > 1)"
      ],
      "id": "8f39af07-05cb-4557-a26b-960b16f1bc91",
      "execution_count": null,
      "outputs": [
        {
          "output_type": "execute_result",
          "data": {
            "text/plain": [
              "14911"
            ]
          },
          "metadata": {},
          "execution_count": 14
        }
      ]
    },
    {
      "cell_type": "code",
      "metadata": {
        "colab": {
          "base_uri": "https://localhost:8080/"
        },
        "id": "ed38beba-862d-44f4-be10-04b8982c3489",
        "outputId": "622c55fe-d00f-4212-d469-0b2561949e1e"
      },
      "source": [
        "# Cria filtro para visualização das linhas com número de processo duplicado\n",
        "filtro = df_completo['Numero'].value_counts() > 1  # duplicado,resolver\n",
        "# Cria um dataframe apenas com as linhas de processos duplicados e imprime o formato\n",
        "df_dup = df_completo[df_completo['Numero'].isin(filtro[filtro].index.unique())].sort_values('Numero')\n",
        "df_dup.shape"
      ],
      "id": "ed38beba-862d-44f4-be10-04b8982c3489",
      "execution_count": null,
      "outputs": [
        {
          "output_type": "execute_result",
          "data": {
            "text/plain": [
              "(268, 13)"
            ]
          },
          "metadata": {},
          "execution_count": 15
        }
      ]
    },
    {
      "cell_type": "code",
      "metadata": {
        "id": "485cc169-a162-46e2-aa9a-845b153969a7",
        "colab": {
          "base_uri": "https://localhost:8080/",
          "height": 610
        },
        "outputId": "2fa15367-ee56-473a-dbce-6cd0c705c826"
      },
      "source": [
        "# Cria um dataframe apenas com as linhas que, na coluna \"Classe_Processo_Nome\", possui a expressão \"RECURSO\"\n",
        "filt = df_dup[df_dup['Classe_Processo_Nome'].str.contains('RECURSO')]\n",
        "# Imprime o formato e confere se possui a metade do número de linhas do dataframe que exibiu as linhas duplicadas\n",
        "print(filt.shape)\n",
        "filt.head()"
      ],
      "id": "485cc169-a162-46e2-aa9a-845b153969a7",
      "execution_count": null,
      "outputs": [
        {
          "output_type": "stream",
          "name": "stdout",
          "text": [
            "(134, 13)\n"
          ]
        },
        {
          "output_type": "execute_result",
          "data": {
            "text/html": [
              "<div>\n",
              "<style scoped>\n",
              "    .dataframe tbody tr th:only-of-type {\n",
              "        vertical-align: middle;\n",
              "    }\n",
              "\n",
              "    .dataframe tbody tr th {\n",
              "        vertical-align: top;\n",
              "    }\n",
              "\n",
              "    .dataframe thead th {\n",
              "        text-align: right;\n",
              "    }\n",
              "</style>\n",
              "<table border=\"1\" class=\"dataframe\">\n",
              "  <thead>\n",
              "    <tr style=\"text-align: right;\">\n",
              "      <th></th>\n",
              "      <th>processo</th>\n",
              "      <th>peticao</th>\n",
              "      <th>Numero</th>\n",
              "      <th>Tipo_Assunto_Nome</th>\n",
              "      <th>Setor_Nome</th>\n",
              "      <th>Setor_Sigla</th>\n",
              "      <th>Unidade_UF</th>\n",
              "      <th>Unidade_Municipio</th>\n",
              "      <th>Pasta_Meio</th>\n",
              "      <th>Classe_Processo_Nome</th>\n",
              "      <th>Tribunal_Competencia</th>\n",
              "      <th>Tribunal_Sigla</th>\n",
              "      <th>Processo_Judicial_Eletronico</th>\n",
              "    </tr>\n",
              "  </thead>\n",
              "  <tbody>\n",
              "    <tr>\n",
              "      <th>27</th>\n",
              "      <td>10000037820214013801</td>\n",
              "      <td>Em anexo\\n \\nNum. 409341349 - Pág. 1Assinado e...</td>\n",
              "      <td>10000037820214013801</td>\n",
              "      <td>AUXILIO EMERGENCIAL</td>\n",
              "      <td>COORDENAÇÃO REGIONAL DE JUIZADO ESPECIAL FEDER...</td>\n",
              "      <td>COREJEF1R</td>\n",
              "      <td>DF</td>\n",
              "      <td>BRASÍLIA</td>\n",
              "      <td>ELETRÔNICO</td>\n",
              "      <td>RECURSO INOMINADO</td>\n",
              "      <td>Justiça Federal Comum</td>\n",
              "      <td>TRF1</td>\n",
              "      <td>True</td>\n",
              "    </tr>\n",
              "    <tr>\n",
              "      <th>46</th>\n",
              "      <td>10000080320214013801</td>\n",
              "      <td>INICIAL\\n \\nNum. 409363349 - Pág. 1Assinado el...</td>\n",
              "      <td>10000080320214013801</td>\n",
              "      <td>SEGURO-DESEMPREGO</td>\n",
              "      <td>COORDENAÇÃO REGIONAL DE JUIZADO ESPECIAL FEDER...</td>\n",
              "      <td>COREJEF1R</td>\n",
              "      <td>DF</td>\n",
              "      <td>BRASÍLIA</td>\n",
              "      <td>ELETRÔNICO</td>\n",
              "      <td>RECURSO INOMINADO</td>\n",
              "      <td>Justiça Federal Comum</td>\n",
              "      <td>TRF1</td>\n",
              "      <td>True</td>\n",
              "    </tr>\n",
              "    <tr>\n",
              "      <th>130</th>\n",
              "      <td>10000378120214013824</td>\n",
              "      <td>PDF em anexo\\n \\nNum. 412249348 - Pág. 1Assina...</td>\n",
              "      <td>10000378120214013824</td>\n",
              "      <td>AUXILIO EMERGENCIAL</td>\n",
              "      <td>COORDENAÇÃO REGIONAL DE JUIZADO ESPECIAL FEDER...</td>\n",
              "      <td>COREJEF1R</td>\n",
              "      <td>DF</td>\n",
              "      <td>BRASÍLIA</td>\n",
              "      <td>ELETRÔNICO</td>\n",
              "      <td>RECURSO INOMINADO</td>\n",
              "      <td>Justiça Federal Comum</td>\n",
              "      <td>TRF1</td>\n",
              "      <td>True</td>\n",
              "    </tr>\n",
              "    <tr>\n",
              "      <th>141</th>\n",
              "      <td>10000413620214013819</td>\n",
              "      <td>Excelentíssimo (a) Senhor (a) Doutor (a) Juiz ...</td>\n",
              "      <td>10000413620214013819</td>\n",
              "      <td>AUXILIO EMERGENCIAL</td>\n",
              "      <td>NUCLEO ESPECIALIZADO EM AUXÍLIO EMERGENCIAL (P...</td>\n",
              "      <td>COREJEFAE</td>\n",
              "      <td>DF</td>\n",
              "      <td>BRASÍLIA</td>\n",
              "      <td>ELETRÔNICO</td>\n",
              "      <td>RECURSO INOMINADO</td>\n",
              "      <td>Justiça Federal Comum</td>\n",
              "      <td>TRF1</td>\n",
              "      <td>True</td>\n",
              "    </tr>\n",
              "    <tr>\n",
              "      <th>146</th>\n",
              "      <td>10000422720214013817</td>\n",
              "      <td>ANEXO\\n \\nNum. 415381857 - Pág. 1Assinado elet...</td>\n",
              "      <td>10000422720214013817</td>\n",
              "      <td>AUXILIO EMERGENCIAL</td>\n",
              "      <td>COORDENAÇÃO REGIONAL DE JUIZADO ESPECIAL FEDER...</td>\n",
              "      <td>COREJEF1R</td>\n",
              "      <td>DF</td>\n",
              "      <td>BRASÍLIA</td>\n",
              "      <td>ELETRÔNICO</td>\n",
              "      <td>RECURSO INOMINADO</td>\n",
              "      <td>Justiça Federal Comum</td>\n",
              "      <td>TRF1</td>\n",
              "      <td>True</td>\n",
              "    </tr>\n",
              "  </tbody>\n",
              "</table>\n",
              "</div>"
            ],
            "text/plain": [
              "                 processo  ... Processo_Judicial_Eletronico\n",
              "27   10000037820214013801  ...                         True\n",
              "46   10000080320214013801  ...                         True\n",
              "130  10000378120214013824  ...                         True\n",
              "141  10000413620214013819  ...                         True\n",
              "146  10000422720214013817  ...                         True\n",
              "\n",
              "[5 rows x 13 columns]"
            ]
          },
          "metadata": {},
          "execution_count": 16
        }
      ]
    },
    {
      "cell_type": "code",
      "metadata": {
        "id": "9d0b66f4-1e76-401b-abf8-a944862afe23",
        "colab": {
          "base_uri": "https://localhost:8080/"
        },
        "outputId": "40287714-202d-4df7-a33a-4edf6ad72665"
      },
      "source": [
        "# Lista os índices das linhas que possuem processo duplicado e referência a RECURSO\n",
        "filt.index"
      ],
      "id": "9d0b66f4-1e76-401b-abf8-a944862afe23",
      "execution_count": null,
      "outputs": [
        {
          "output_type": "execute_result",
          "data": {
            "text/plain": [
              "Int64Index([   27,    46,   130,   141,   146,   167,   246,   273,   325,\n",
              "              383,\n",
              "            ...\n",
              "            10300, 10481, 10518, 10573, 10859, 11320, 11536, 13921, 14129,\n",
              "            14566],\n",
              "           dtype='int64', length=134)"
            ]
          },
          "metadata": {},
          "execution_count": 17
        }
      ]
    },
    {
      "cell_type": "code",
      "metadata": {
        "colab": {
          "base_uri": "https://localhost:8080/"
        },
        "id": "554ea469-b8f3-4602-9a5f-5cb9f72c3e2f",
        "outputId": "75ce4ed5-5aea-40fe-c3f1-1cc4e44d58d0"
      },
      "source": [
        "# Confere o formato\n",
        "df_completo.loc[filt.index, :].shape"
      ],
      "id": "554ea469-b8f3-4602-9a5f-5cb9f72c3e2f",
      "execution_count": null,
      "outputs": [
        {
          "output_type": "execute_result",
          "data": {
            "text/plain": [
              "(134, 13)"
            ]
          },
          "metadata": {},
          "execution_count": 18
        }
      ]
    },
    {
      "cell_type": "code",
      "metadata": {
        "colab": {
          "base_uri": "https://localhost:8080/"
        },
        "id": "3c12f5ed-db99-488d-a0e1-ae268418879c",
        "outputId": "444e3b61-b72b-4dcc-c107-8fa5293339ad"
      },
      "source": [
        "# Confere quantas linhas restariam se fossem retiradas aquelas com número de processo duplicado e referência a RECURSO\n",
        "df_completo.drop(index=filt.index, axis=0).shape"
      ],
      "id": "3c12f5ed-db99-488d-a0e1-ae268418879c",
      "execution_count": null,
      "outputs": [
        {
          "output_type": "execute_result",
          "data": {
            "text/plain": [
              "(14911, 13)"
            ]
          },
          "metadata": {},
          "execution_count": 19
        }
      ]
    },
    {
      "cell_type": "code",
      "metadata": {
        "colab": {
          "base_uri": "https://localhost:8080/"
        },
        "id": "f4db2e3d-89af-4ba8-acfc-d6a973807a94",
        "outputId": "922e8e6f-da36-48e7-d212-a79ae82749c1"
      },
      "source": [
        "# Cria o dataframe final, sem as linhas que possuíam processos duplicadas e referência a RECURSOS.\n",
        "df_final = df_completo.drop(index=filt.index, axis=0)\n",
        "df_final.shape"
      ],
      "id": "f4db2e3d-89af-4ba8-acfc-d6a973807a94",
      "execution_count": null,
      "outputs": [
        {
          "output_type": "execute_result",
          "data": {
            "text/plain": [
              "(14911, 13)"
            ]
          },
          "metadata": {},
          "execution_count": 20
        }
      ]
    },
    {
      "cell_type": "code",
      "metadata": {
        "colab": {
          "base_uri": "https://localhost:8080/"
        },
        "id": "726eefe1-2e31-4b91-b2fa-619752ef542a",
        "outputId": "6720a3ac-d3c8-4a99-86ec-9ab2675971a7"
      },
      "source": [
        "# Confere se ainda existem números de processos duplicados\n",
        "df_final['Numero'].drop_duplicates().shape"
      ],
      "id": "726eefe1-2e31-4b91-b2fa-619752ef542a",
      "execution_count": null,
      "outputs": [
        {
          "output_type": "execute_result",
          "data": {
            "text/plain": [
              "(14911,)"
            ]
          },
          "metadata": {},
          "execution_count": 21
        }
      ]
    },
    {
      "cell_type": "code",
      "metadata": {
        "colab": {
          "base_uri": "https://localhost:8080/"
        },
        "id": "6053baeb-65db-470e-b2a7-5d5cfa28fe8e",
        "outputId": "e9538706-b161-4c8e-d8be-f225ec22488a"
      },
      "source": [
        "sum(df_final['Numero'].value_counts() > 1)"
      ],
      "id": "6053baeb-65db-470e-b2a7-5d5cfa28fe8e",
      "execution_count": null,
      "outputs": [
        {
          "output_type": "execute_result",
          "data": {
            "text/plain": [
              "0"
            ]
          },
          "metadata": {},
          "execution_count": 22
        }
      ]
    },
    {
      "cell_type": "markdown",
      "metadata": {
        "tags": [],
        "id": "9e310fdd-4545-4473-a34a-12a1bae30d1f"
      },
      "source": [
        "### VERIFICAÇÃO DE DADOS FALTANTES\n",
        "###### Instalação da biblioteca MissingNo"
      ],
      "id": "9e310fdd-4545-4473-a34a-12a1bae30d1f"
    },
    {
      "cell_type": "code",
      "metadata": {
        "tags": [],
        "id": "1b8d84a5-e702-46f3-abc0-3e8e58a415dc",
        "colab": {
          "base_uri": "https://localhost:8080/"
        },
        "outputId": "5ee32f28-c1fe-49a7-fe08-d173f7272dd0"
      },
      "source": [
        "pip install missingno"
      ],
      "id": "1b8d84a5-e702-46f3-abc0-3e8e58a415dc",
      "execution_count": null,
      "outputs": [
        {
          "output_type": "stream",
          "name": "stdout",
          "text": [
            "Requirement already satisfied: missingno in /usr/local/lib/python3.7/dist-packages (0.5.0)\n",
            "Requirement already satisfied: matplotlib in /usr/local/lib/python3.7/dist-packages (from missingno) (3.2.2)\n",
            "Requirement already satisfied: numpy in /usr/local/lib/python3.7/dist-packages (from missingno) (1.19.5)\n",
            "Requirement already satisfied: seaborn in /usr/local/lib/python3.7/dist-packages (from missingno) (0.11.2)\n",
            "Requirement already satisfied: scipy in /usr/local/lib/python3.7/dist-packages (from missingno) (1.4.1)\n",
            "Requirement already satisfied: kiwisolver>=1.0.1 in /usr/local/lib/python3.7/dist-packages (from matplotlib->missingno) (1.3.2)\n",
            "Requirement already satisfied: cycler>=0.10 in /usr/local/lib/python3.7/dist-packages (from matplotlib->missingno) (0.11.0)\n",
            "Requirement already satisfied: python-dateutil>=2.1 in /usr/local/lib/python3.7/dist-packages (from matplotlib->missingno) (2.8.2)\n",
            "Requirement already satisfied: pyparsing!=2.0.4,!=2.1.2,!=2.1.6,>=2.0.1 in /usr/local/lib/python3.7/dist-packages (from matplotlib->missingno) (3.0.6)\n",
            "Requirement already satisfied: six>=1.5 in /usr/local/lib/python3.7/dist-packages (from python-dateutil>=2.1->matplotlib->missingno) (1.15.0)\n",
            "Requirement already satisfied: pandas>=0.23 in /usr/local/lib/python3.7/dist-packages (from seaborn->missingno) (1.1.5)\n",
            "Requirement already satisfied: pytz>=2017.2 in /usr/local/lib/python3.7/dist-packages (from pandas>=0.23->seaborn->missingno) (2018.9)\n"
          ]
        }
      ]
    },
    {
      "cell_type": "code",
      "metadata": {
        "id": "932fd1d6-7562-4a7e-bc99-5bff83f04c03",
        "colab": {
          "base_uri": "https://localhost:8080/",
          "height": 535
        },
        "outputId": "7089bd13-e475-4ff1-8754-62e8b9f92c75"
      },
      "source": [
        "# Importa biblioteca para visualização gráfica de dados faltantes\n",
        "import missingno as msno\n",
        "# Plota gráfico de barras do dataframe com a indicação da quantidade de dados existentes em cada linha\n",
        "msno.bar(df_final)"
      ],
      "id": "932fd1d6-7562-4a7e-bc99-5bff83f04c03",
      "execution_count": null,
      "outputs": [
        {
          "output_type": "execute_result",
          "data": {
            "text/plain": [
              "<matplotlib.axes._subplots.AxesSubplot at 0x7fae2c035850>"
            ]
          },
          "metadata": {},
          "execution_count": 24
        },
        {
          "output_type": "display_data",
          "data": {
            "image/png": "[encoded data removed]",
            "text/plain": [
              "<Figure size 1800x720 with 3 Axes>"
            ]
          },
          "metadata": {
            "needs_background": "light"
          }
        }
      ]
    },
    {
      "cell_type": "code",
      "metadata": {
        "tags": [],
        "colab": {
          "base_uri": "https://localhost:8080/",
          "height": 167
        },
        "id": "4dee4a54-d5b6-4505-ad2c-57ba387d8326",
        "outputId": "367f552c-f2a2-4e83-944e-43d4840ce6c0"
      },
      "source": [
        "# Lista as linhas da coluna com dados faltantes\n",
        "df_final.loc[df_final['Classe_Processo_Nome'].isna()]"
      ],
      "id": "4dee4a54-d5b6-4505-ad2c-57ba387d8326",
      "execution_count": null,
      "outputs": [
        {
          "output_type": "execute_result",
          "data": {
            "text/html": [
              "<div>\n",
              "<style scoped>\n",
              "    .dataframe tbody tr th:only-of-type {\n",
              "        vertical-align: middle;\n",
              "    }\n",
              "\n",
              "    .dataframe tbody tr th {\n",
              "        vertical-align: top;\n",
              "    }\n",
              "\n",
              "    .dataframe thead th {\n",
              "        text-align: right;\n",
              "    }\n",
              "</style>\n",
              "<table border=\"1\" class=\"dataframe\">\n",
              "  <thead>\n",
              "    <tr style=\"text-align: right;\">\n",
              "      <th></th>\n",
              "      <th>processo</th>\n",
              "      <th>peticao</th>\n",
              "      <th>Numero</th>\n",
              "      <th>Tipo_Assunto_Nome</th>\n",
              "      <th>Setor_Nome</th>\n",
              "      <th>Setor_Sigla</th>\n",
              "      <th>Unidade_UF</th>\n",
              "      <th>Unidade_Municipio</th>\n",
              "      <th>Pasta_Meio</th>\n",
              "      <th>Classe_Processo_Nome</th>\n",
              "      <th>Tribunal_Competencia</th>\n",
              "      <th>Tribunal_Sigla</th>\n",
              "      <th>Processo_Judicial_Eletronico</th>\n",
              "    </tr>\n",
              "  </thead>\n",
              "  <tbody>\n",
              "    <tr>\n",
              "      <th>11409</th>\n",
              "      <td>10126865320214013800</td>\n",
              "      <td>Em anexo, inicial e documentos\\n \\nNum. 482023...</td>\n",
              "      <td>10126865320214013800</td>\n",
              "      <td>MULTAS E DEMAIS SANÇÕES</td>\n",
              "      <td>COORDENAÇÃO REGIONAL DE RECUPERAÇÃO DE ATIVOS ...</td>\n",
              "      <td>CORAT1R</td>\n",
              "      <td>DF</td>\n",
              "      <td>BRASÍLIA</td>\n",
              "      <td>ELETRÔNICO</td>\n",
              "      <td>NaN</td>\n",
              "      <td>Justiça Federal Comum</td>\n",
              "      <td>TRF1</td>\n",
              "      <td>True</td>\n",
              "    </tr>\n",
              "  </tbody>\n",
              "</table>\n",
              "</div>"
            ],
            "text/plain": [
              "                   processo  ... Processo_Judicial_Eletronico\n",
              "11409  10126865320214013800  ...                         True\n",
              "\n",
              "[1 rows x 13 columns]"
            ]
          },
          "metadata": {},
          "execution_count": 25
        }
      ]
    },
    {
      "cell_type": "code",
      "metadata": {
        "colab": {
          "base_uri": "https://localhost:8080/",
          "height": 86
        },
        "id": "9f659483-3a24-43b5-aeba-b96fe49da86f",
        "outputId": "2d2b64a8-1ad2-46e2-c3f2-d4679275cc88"
      },
      "source": [
        "# Exclusão da linha com dado faltante\n",
        "df_final = df_final.drop(index=11409, axis=0)\n",
        "print(df_final.shape)\n",
        "df_final.iloc[11409:11409,:]"
      ],
      "id": "9f659483-3a24-43b5-aeba-b96fe49da86f",
      "execution_count": null,
      "outputs": [
        {
          "output_type": "stream",
          "name": "stdout",
          "text": [
            "(14910, 13)\n"
          ]
        },
        {
          "output_type": "execute_result",
          "data": {
            "text/html": [
              "<div>\n",
              "<style scoped>\n",
              "    .dataframe tbody tr th:only-of-type {\n",
              "        vertical-align: middle;\n",
              "    }\n",
              "\n",
              "    .dataframe tbody tr th {\n",
              "        vertical-align: top;\n",
              "    }\n",
              "\n",
              "    .dataframe thead th {\n",
              "        text-align: right;\n",
              "    }\n",
              "</style>\n",
              "<table border=\"1\" class=\"dataframe\">\n",
              "  <thead>\n",
              "    <tr style=\"text-align: right;\">\n",
              "      <th></th>\n",
              "      <th>processo</th>\n",
              "      <th>peticao</th>\n",
              "      <th>Numero</th>\n",
              "      <th>Tipo_Assunto_Nome</th>\n",
              "      <th>Setor_Nome</th>\n",
              "      <th>Setor_Sigla</th>\n",
              "      <th>Unidade_UF</th>\n",
              "      <th>Unidade_Municipio</th>\n",
              "      <th>Pasta_Meio</th>\n",
              "      <th>Classe_Processo_Nome</th>\n",
              "      <th>Tribunal_Competencia</th>\n",
              "      <th>Tribunal_Sigla</th>\n",
              "      <th>Processo_Judicial_Eletronico</th>\n",
              "    </tr>\n",
              "  </thead>\n",
              "  <tbody>\n",
              "  </tbody>\n",
              "</table>\n",
              "</div>"
            ],
            "text/plain": [
              "Empty DataFrame\n",
              "Columns: [processo, peticao, Numero, Tipo_Assunto_Nome, Setor_Nome, Setor_Sigla, Unidade_UF, Unidade_Municipio, Pasta_Meio, Classe_Processo_Nome, Tribunal_Competencia, Tribunal_Sigla, Processo_Judicial_Eletronico]\n",
              "Index: []"
            ]
          },
          "metadata": {},
          "execution_count": 26
        }
      ]
    },
    {
      "cell_type": "code",
      "metadata": {
        "colab": {
          "base_uri": "https://localhost:8080/",
          "height": 585
        },
        "id": "5OtQTXcTfksa",
        "outputId": "fc788092-e9b0-4a23-98e4-55bb9b49b18b"
      },
      "source": [
        "df_final = df_final.drop(columns=['processo','Numero','Setor_Nome','Unidade_UF','Unidade_Municipio','Pasta_Meio','Tribunal_Competencia','Tribunal_Sigla','Processo_Judicial_Eletronico'], axis=1)\n",
        "df_final"
      ],
      "id": "5OtQTXcTfksa",
      "execution_count": null,
      "outputs": [
        {
          "output_type": "execute_result",
          "data": {
            "text/html": [
              "<div>\n",
              "<style scoped>\n",
              "    .dataframe tbody tr th:only-of-type {\n",
              "        vertical-align: middle;\n",
              "    }\n",
              "\n",
              "    .dataframe tbody tr th {\n",
              "        vertical-align: top;\n",
              "    }\n",
              "\n",
              "    .dataframe thead th {\n",
              "        text-align: right;\n",
              "    }\n",
              "</style>\n",
              "<table border=\"1\" class=\"dataframe\">\n",
              "  <thead>\n",
              "    <tr style=\"text-align: right;\">\n",
              "      <th></th>\n",
              "      <th>peticao</th>\n",
              "      <th>Tipo_Assunto_Nome</th>\n",
              "      <th>Setor_Sigla</th>\n",
              "      <th>Classe_Processo_Nome</th>\n",
              "    </tr>\n",
              "  </thead>\n",
              "  <tbody>\n",
              "    <tr>\n",
              "      <th>0</th>\n",
              "      <td>Petição segue anexa.\\n \\nNum. 751512049 - Pág....</td>\n",
              "      <td>AVERBAÇÃO / CONTAGEM DE TEMPO ESPECIAL</td>\n",
              "      <td>COREJEF1R</td>\n",
              "      <td>RECURSO INOMINADO</td>\n",
              "    </tr>\n",
              "    <tr>\n",
              "      <th>1</th>\n",
              "      <td>9254-20.2010.4.01.3803 \\nEXMO (A) SR (A) JUIZ ...</td>\n",
              "      <td>FORNECIMENTO DE MEDICAMENTOS</td>\n",
              "      <td>CORESA1R</td>\n",
              "      <td>RECURSO INOMINADO</td>\n",
              "    </tr>\n",
              "    <tr>\n",
              "      <th>2</th>\n",
              "      <td>Dados sobre a doença e medicamento(s)/exame(s)...</td>\n",
              "      <td>PADRONIZADO</td>\n",
              "      <td>CORESA1R</td>\n",
              "      <td>RECURSO INOMINADO</td>\n",
              "    </tr>\n",
              "    <tr>\n",
              "      <th>3</th>\n",
              "      <td>inicial\\n \\nNum. 409309388 - Pág. 1Assinado el...</td>\n",
              "      <td>SEGURO-DESEMPREGO</td>\n",
              "      <td>COREJEF1R</td>\n",
              "      <td>PROCEDIMENTO DO JUIZADO ESPECIAL CÍVEL</td>\n",
              "    </tr>\n",
              "    <tr>\n",
              "      <th>4</th>\n",
              "      <td>INICIAL\\n \\nNum. 409362388 - Pág. 1Assinado el...</td>\n",
              "      <td>SEGURO-DESEMPREGO</td>\n",
              "      <td>COREJEF1R</td>\n",
              "      <td>PROCEDIMENTO DO JUIZADO ESPECIAL CÍVEL</td>\n",
              "    </tr>\n",
              "    <tr>\n",
              "      <th>...</th>\n",
              "      <td>...</td>\n",
              "      <td>...</td>\n",
              "      <td>...</td>\n",
              "      <td>...</td>\n",
              "    </tr>\n",
              "    <tr>\n",
              "      <th>15040</th>\n",
              "      <td>Petição recebida e distribuída nesta seção con...</td>\n",
              "      <td>PADRONIZADO</td>\n",
              "      <td>CORESA1R</td>\n",
              "      <td>PROCEDIMENTO DO JUIZADO ESPECIAL CÍVEL</td>\n",
              "    </tr>\n",
              "    <tr>\n",
              "      <th>15041</th>\n",
              "      <td>Petição recebida e distribuída nesta seção con...</td>\n",
              "      <td>PADRONIZADO</td>\n",
              "      <td>CORESA1R</td>\n",
              "      <td>PROCEDIMENTO DO JUIZADO ESPECIAL CÍVEL</td>\n",
              "    </tr>\n",
              "    <tr>\n",
              "      <th>15042</th>\n",
              "      <td>Segue inicial e documentos.\\n \\nNum. 751565069...</td>\n",
              "      <td>EXAME DE SAÚDE E/OU APTIDÃO FÍSICA</td>\n",
              "      <td>CORESP1R</td>\n",
              "      <td>MANDADO DE SEGURANÇA</td>\n",
              "    </tr>\n",
              "    <tr>\n",
              "      <th>15043</th>\n",
              "      <td>INICIAL\\n \\nNum. 752882994 - Pág. 1Assinado el...</td>\n",
              "      <td>SEGURO-DESEMPREGO</td>\n",
              "      <td>COREJEF1R</td>\n",
              "      <td>PROCEDIMENTO DO JUIZADO ESPECIAL CÍVEL</td>\n",
              "    </tr>\n",
              "    <tr>\n",
              "      <th>15044</th>\n",
              "      <td>Petição recebida e distribuída nesta seção con...</td>\n",
              "      <td>CIRURGIA</td>\n",
              "      <td>CORESA1R</td>\n",
              "      <td>PROCEDIMENTO DO JUIZADO ESPECIAL CÍVEL</td>\n",
              "    </tr>\n",
              "  </tbody>\n",
              "</table>\n",
              "<p>14910 rows × 4 columns</p>\n",
              "</div>"
            ],
            "text/plain": [
              "                                                 peticao  ...                    Classe_Processo_Nome\n",
              "0      Petição segue anexa.\\n \\nNum. 751512049 - Pág....  ...                       RECURSO INOMINADO\n",
              "1      9254-20.2010.4.01.3803 \\nEXMO (A) SR (A) JUIZ ...  ...                       RECURSO INOMINADO\n",
              "2      Dados sobre a doença e medicamento(s)/exame(s)...  ...                       RECURSO INOMINADO\n",
              "3      inicial\\n \\nNum. 409309388 - Pág. 1Assinado el...  ...  PROCEDIMENTO DO JUIZADO ESPECIAL CÍVEL\n",
              "4      INICIAL\\n \\nNum. 409362388 - Pág. 1Assinado el...  ...  PROCEDIMENTO DO JUIZADO ESPECIAL CÍVEL\n",
              "...                                                  ...  ...                                     ...\n",
              "15040  Petição recebida e distribuída nesta seção con...  ...  PROCEDIMENTO DO JUIZADO ESPECIAL CÍVEL\n",
              "15041  Petição recebida e distribuída nesta seção con...  ...  PROCEDIMENTO DO JUIZADO ESPECIAL CÍVEL\n",
              "15042  Segue inicial e documentos.\\n \\nNum. 751565069...  ...                    MANDADO DE SEGURANÇA\n",
              "15043  INICIAL\\n \\nNum. 752882994 - Pág. 1Assinado el...  ...  PROCEDIMENTO DO JUIZADO ESPECIAL CÍVEL\n",
              "15044  Petição recebida e distribuída nesta seção con...  ...  PROCEDIMENTO DO JUIZADO ESPECIAL CÍVEL\n",
              "\n",
              "[14910 rows x 4 columns]"
            ]
          },
          "metadata": {},
          "execution_count": 27
        }
      ]
    },
    {
      "cell_type": "code",
      "metadata": {
        "colab": {
          "base_uri": "https://localhost:8080/"
        },
        "id": "s20sZTmZiJeL",
        "outputId": "d8b77100-c57c-463c-9c9d-0d2abde8ec93"
      },
      "source": [
        "df_final['Classe_Processo_Nome'].value_counts()"
      ],
      "id": "s20sZTmZiJeL",
      "execution_count": null,
      "outputs": [
        {
          "output_type": "execute_result",
          "data": {
            "text/plain": [
              "PROCEDIMENTO DO JUIZADO ESPECIAL CÍVEL                    11272\n",
              "PROCEDIMENTO ORDINÁRIO                                     1381\n",
              "MANDADO DE SEGURANÇA                                        920\n",
              "RECURSO INOMINADO                                           586\n",
              "CUMPRIMENTO DE SENTENÇA CONTRA A FAZENDA PÚBLICA            208\n",
              "AÇÃO CIVIL PÚBLICA                                          179\n",
              "EXECUÇÃO DE TÍTULO EXTRAJUDICIAL                             69\n",
              "CUMPRIMENTO PROVISÓRIO DE SENTENÇA                           51\n",
              "CUMPRIMENTO DE SENTENÇA                                      44\n",
              "PETIÇÃO                                                      26\n",
              "TUTELA ANTECIPADA ANTECEDENTE                                25\n",
              "AÇÃO CIVIL DE IMPROBIDADE ADMINISTRATIVA                     16\n",
              "EMBARGOS À EXECUÇÃO                                          15\n",
              "AÇÃO POPULAR                                                 13\n",
              "EMBARGOS DE TERCEIRO                                         12\n",
              "REINTEGRAÇÃO / MANUTENÇÃO DE POSSE                           11\n",
              "USUCAPIÃO                                                    10\n",
              "TUTELA CAUTELAR ANTECEDENTE                                   8\n",
              "EMBARGOS À EXECUÇÃO FISCAL                                    8\n",
              "CARTA PRECATÓRIA CÍVEL                                        8\n",
              "CUMPRIMENTO PROVISÓRIO DE DECISÃO                             4\n",
              "EXECUÇÃO FISCAL                                               4\n",
              "LIQUIDAÇÃO POR ARTIGOS                                        4\n",
              "INTERDITO PROIBITÓRIO                                         4\n",
              "DESAPROPRIAÇÃO                                                3\n",
              "HABEAS DATA                                                   3\n",
              "AÇÃO CIVIL COLETIVA                                           3\n",
              "HOMOLOGAÇÃO DE TRANSAÇÃO EXTRAJUDICIAL                        3\n",
              "OUTROS PROCEDIMENTOS DE JURISDIÇÃO VOLUNTÁRIA                 2\n",
              "CARTA PRECATÓRIA CRIMINAL                                     2\n",
              "LIQUIDAÇÃO PROVISÓRIA POR ARTIGOS                             2\n",
              "MONITÓRIA                                                     2\n",
              "IMISSÃO NA POSSE                                              1\n",
              "PROCESSO DE CONHECIMENTO                                      1\n",
              "CONSIGNATÓRIA DE ALUGUÉIS                                     1\n",
              "HABEAS CORPUS                                                 1\n",
              "EXECUÇÃO CONTRA A FAZENDA PÚBLICA                             1\n",
              "INQUÉRITO POLICIAL                                            1\n",
              "PROTESTO                                                      1\n",
              "MANDADO DE SEGURANÇA COLETIVO                                 1\n",
              "CONSIGNAÇÃO EM PAGAMENTO                                      1\n",
              "EXIBIÇÃO DE DOCUMENTO OU COISA                                1\n",
              "PRODUÇÃO ANTECIPADA DE PROVAS                                 1\n",
              "INCIDENTE DE DESCONSIDERAÇÃO DE PERSONALIDADE JURÍDICA        1\n",
              "Name: Classe_Processo_Nome, dtype: int64"
            ]
          },
          "metadata": {},
          "execution_count": 28
        }
      ]
    },
    {
      "cell_type": "code",
      "metadata": {
        "colab": {
          "base_uri": "https://localhost:8080/"
        },
        "id": "_MOEUE0MYYxH",
        "outputId": "03323b01-2fe9-4b36-c039-56efbdd098e0"
      },
      "source": [
        "df_final['Setor_Sigla'].value_counts()"
      ],
      "id": "_MOEUE0MYYxH",
      "execution_count": null,
      "outputs": [
        {
          "output_type": "execute_result",
          "data": {
            "text/plain": [
              "COREJEF1R     9472\n",
              "CORESA1R      2457\n",
              "CORESP1R      1266\n",
              "COREJEFAE      634\n",
              "CORESE1R       394\n",
              "CGJ            205\n",
              "COREM1R        124\n",
              "CORAT1R         94\n",
              "CRN1R           80\n",
              "COREPAM1R       79\n",
              "SEJUD1R         63\n",
              "COREPRO1R       19\n",
              "CORAD1R          8\n",
              "GAB1R            7\n",
              "CGJNINF          6\n",
              "CORETRAB1R       2\n",
              "Name: Setor_Sigla, dtype: int64"
            ]
          },
          "metadata": {},
          "execution_count": 29
        }
      ]
    },
    {
      "cell_type": "code",
      "metadata": {
        "colab": {
          "base_uri": "https://localhost:8080/"
        },
        "id": "5YDUmRi2YMVc",
        "outputId": "d1ba1fe2-4549-4177-f544-8dc61d2155d4"
      },
      "source": [
        "# Exclusão de linhas referentes a Coordenações não relevantes para o modelo\n",
        "for setor in ['CGJ', 'CRN1R','CORETRAB', 'CGJNIN', 'GAB1', 'CORAD1', 'SEJUD1', 'COREPRO1']:  \n",
        "  filt = df_final[df_final['Setor_Sigla'].str.contains(setor)]\n",
        "  df_final = df_final.drop(index=filt.index, axis=0)\n",
        "df_final['Setor_Sigla'].value_counts()"
      ],
      "id": "5YDUmRi2YMVc",
      "execution_count": null,
      "outputs": [
        {
          "output_type": "execute_result",
          "data": {
            "text/plain": [
              "COREJEF1R    10106\n",
              "CORESA1R      2457\n",
              "CORESP1R      1266\n",
              "CORESE1R       394\n",
              "COREM1R        124\n",
              "CORAT1R         94\n",
              "COREPAM1R       79\n",
              "Name: Setor_Sigla, dtype: int64"
            ]
          },
          "metadata": {},
          "execution_count": 35
        }
      ]
    },
    {
      "cell_type": "code",
      "metadata": {
        "colab": {
          "base_uri": "https://localhost:8080/"
        },
        "id": "9l4slYVqFULB",
        "outputId": "1396db3e-fa27-4ff4-9d27-c3b86590a5b3"
      },
      "source": [
        "df_final['Setor_Sigla'] = df_final['Setor_Sigla'].str.replace('COREJEFAE', 'COREJEF1R')\n",
        "\n",
        "df_final['Setor_Sigla'].value_counts()"
      ],
      "id": "9l4slYVqFULB",
      "execution_count": null,
      "outputs": [
        {
          "output_type": "execute_result",
          "data": {
            "text/plain": [
              "COREJEF1R    10106\n",
              "CORESA1R      2457\n",
              "CORESP1R      1266\n",
              "CORESE1R       394\n",
              "COREM1R        124\n",
              "CORAT1R         94\n",
              "COREPAM1R       79\n",
              "Name: Setor_Sigla, dtype: int64"
            ]
          },
          "metadata": {},
          "execution_count": 36
        }
      ]
    },
    {
      "cell_type": "markdown",
      "metadata": {
        "tags": [],
        "id": "13296118-af7c-42c4-908b-0f08ef48f918"
      },
      "source": [
        "### VERIFICAÇÃO DO BALANCEAMENTO DA VARIÁVEL TARGET"
      ],
      "id": "13296118-af7c-42c4-908b-0f08ef48f918"
    },
    {
      "cell_type": "code",
      "metadata": {
        "colab": {
          "base_uri": "https://localhost:8080/",
          "height": 334
        },
        "id": "cfbc4889-e89d-4615-85d2-593f1f627767",
        "outputId": "472ace4a-567a-454a-db85-38bbff94708a"
      },
      "source": [
        "# Plota gráfico de barras com a quantidade de classes da variável target\n",
        "df_final['Setor_Sigla'].value_counts().plot(kind='bar')"
      ],
      "id": "cfbc4889-e89d-4615-85d2-593f1f627767",
      "execution_count": null,
      "outputs": [
        {
          "output_type": "execute_result",
          "data": {
            "text/plain": [
              "<matplotlib.axes._subplots.AxesSubplot at 0x7fae235e8050>"
            ]
          },
          "metadata": {},
          "execution_count": 32
        },
        {
          "output_type": "display_data",
          "data": {
            "image/png": "[encoded data removed]",
            "text/plain": [
              "<Figure size 432x288 with 1 Axes>"
            ]
          },
          "metadata": {
            "needs_background": "light"
          }
        }
      ]
    },
    {
      "cell_type": "markdown",
      "metadata": {
        "tags": [],
        "id": "25bd926d-9d08-443c-8c72-8fed43faf2ae"
      },
      "source": [
        "### GRAVA O DATAFRAME EM ARQUIVO"
      ],
      "id": "25bd926d-9d08-443c-8c72-8fed43faf2ae"
    },
    {
      "cell_type": "code",
      "metadata": {
        "id": "7e6d323b-88b4-41aa-b24b-db252fb77fcc"
      },
      "source": [
        "df_final.to_parquet(pasta_projeto / 'AU final.parquet')"
      ],
      "id": "7e6d323b-88b4-41aa-b24b-db252fb77fcc",
      "execution_count": null,
      "outputs": []
    },
    {
      "cell_type": "code",
      "metadata": {
        "id": "PeXQpwQ8hjOI"
      },
      "source": [
        ""
      ],
      "id": "PeXQpwQ8hjOI",
      "execution_count": null,
      "outputs": []
    }
  ]
}